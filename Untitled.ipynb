{
 "cells": [
  {
   "cell_type": "code",
   "execution_count": null,
   "id": "30450fb4-6aac-4668-978a-0de24571ee5d",
   "metadata": {},
   "outputs": [],
   "source": []
  }
 ],
 "metadata": {
  "kernelspec": {
   "display_name": "",
   "name": ""
  },
  "language_info": {
   "name": ""
  }
 },
 "nbformat": 4,
 "nbformat_minor": 5
}
